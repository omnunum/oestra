{
 "cells": [
  {
   "cell_type": "code",
   "execution_count": 54,
   "metadata": {},
   "outputs": [],
   "source": [
    "from collections import defaultdict\n",
    "from dataclasses import dataclass\n",
    "from typing import List, Union\n",
    "\n",
    "import arrow\n",
    "from arrow import Arrow\n",
    "import pandas as pd\n",
    "\n",
    "@dataclass\n",
    "class Asset:\n",
    "    category: str\n",
    "    ticker: str\n",
    "    price: float\n",
    "    units: int\n",
    "    grant_date: Arrow\n",
    "\n",
    "@dataclass\n",
    "class Event:\n",
    "    action: str\n",
    "    price: float\n",
    "    units: int\n",
    "    date: Arrow\n",
    "    fmv: float\n",
    "    \n",
    "class Portfolio:\n",
    "    def __init__(self):\n",
    "        self.assets = pd.DataFrame()\n",
    "        self.events = []\n",
    "        \n",
    "    def _add_asset(self, asset: Asset):\n",
    "        category = self.assets[asset.category]\n",
    "        if not category.get(asset.ticker):\n",
    "            category[asset.ticker] = [asset]\n",
    "        else:\n",
    "            category[asset.ticker].append(asset)\n",
    "\n",
    "    def cost_basis(self, category, ticker):\n",
    "        assets = self.assets[category][ticker]\n",
    "        return sum(a.price * a.units for a in self.assets)\n",
    "    \n",
    "    def total_amount(self, category, ticker):\n",
    "        assets = self.assets[category][ticker]\n",
    "        return sum(a.units for a in assets)\n",
    "    \n",
    "    def grant_option(self, ticker: str, price: float, units: int, date: Arrow) -> Event:\n",
    "        event = Event('option grant', price, units, date)\n",
    "        self.events.append(event)\n",
    "        option = Asset('option', ticker, price, units, date)\n",
    "        self._add_asset(option)\n",
    "        return event\n",
    "    \n",
    "    def exercise_option(self, ticker: str, price: float, units: int, date: Arrow, fmv: float) -> Event:\n",
    "        event = Event('option exercise', price, units, date, fmv)\n",
    "        self.events.append(event)\n",
    "        return event\n",
    "    \n"
   ]
  },
  {
   "cell_type": "code",
   "execution_count": null,
   "metadata": {},
   "outputs": [],
   "source": [
    "filing_state = 'georgia'\n",
    "filing_status = 'single'\n",
    "gross_income = 127_200\n",
    "withholdings = 18_000 + 2_500 + 22 # 401k, HSA, Dental\n",
    "agi = gross_income - withholdings\n",
    "\n",
    "# Leave None if taking standard deduction,\n",
    "# otherwise enter value in dollars\n",
    "nonstandard_state_deduction = None\n",
    "nonstandard_federal_deduction = None\n",
    "\n",
    "fmv = 22\n",
    "target_price = 120\n",
    "options = ((2.18, 1600), (3.08, 833))\n"
   ]
  },
  {
   "cell_type": "code",
   "execution_count": 2,
   "metadata": {},
   "outputs": [],
   "source": [
    "import requests as rq\n",
    "def get_tax_info(region: str, filing_status: str, capital_gains=False) -> (int, list):\n",
    "    \"\"\"Fetch tax brackets and deduction amount for a region of the US for FY2020 \n",
    "    :param region: Can be any of the 50 states, `district of columbia`, or `federal`\n",
    "    :param filing_status: Options are (single, married, married_separately, head_of_household)\n",
    "    :param capital_gains: Whether you want to return capital gains rates instead of income\n",
    "    \"\"\"\n",
    "    if capital_gains and region != 'federal':\n",
    "        raise ValueError(\"Can only apply capital gains rate to `federal` region\")\n",
    "        \n",
    "    normalized_region = region.lower().replace(' ', '_')\n",
    "    url = (f\"https://raw.githubusercontent.com/taxee/taxee-tax-statistics\"\n",
    "           f\"/master/src/statistics/2020/{normalized_region}.json\")\n",
    "    res = rq.get(url)\n",
    "    try:\n",
    "        res.raise_for_status()\n",
    "    except rq.RequestException as e:\n",
    "        raise ValueError(f\"'{region}' is not a valid region\")\n",
    "    if region == 'federal':\n",
    "        data = res.json()['tax_withholding_percentage_method_tables']['annual'][filing_status]\n",
    "    else:\n",
    "        data = res.json()[filing_status]\n",
    "    deduction = data['deductions'][0]['deduction_amount']\n",
    "    rate_key = 'marginal_capital_gain_rate' if capital_gains else 'marginal_rate'\n",
    "    brackets = data['income_tax_brackets']\n",
    "    brackets = [\n",
    "        {'income_level': d['bracket'], 'marginal_rate': d[rate_key] / 100.0} \n",
    "        for d in brackets\n",
    "    ]\n",
    "    return deduction, brackets"
   ]
  },
  {
   "cell_type": "code",
   "execution_count": 3,
   "metadata": {},
   "outputs": [],
   "source": [
    "from typing import List\n",
    "def taxes(income: float, brackets: List[dict]) -> float:\n",
    "    \"\"\"Calculate taxes owed based on progressive bracket\"\"\"\n",
    "    taxes = 0\n",
    "    for i, bracket in enumerate(brackets):\n",
    "        if income == 0:\n",
    "            break\n",
    "        # if we have yet to hit the last bracket\n",
    "        if i < len(brackets) - 1:\n",
    "            next_bracket_income = brackets[i + 1]['income_level']\n",
    "            income_level_band = next_bracket_income - bracket['income_level']\n",
    "            portion = min(income, income_level_band)\n",
    "        # otherwise the rest of the income will be taxed at this last bracket\n",
    "        else:\n",
    "            portion = income\n",
    "        taxes += portion * bracket['marginal_rate']\n",
    "        income -= portion\n",
    "\n",
    "    # if there is income left over after exhausting all brackets\n",
    "    # tax remainder at highest bracket\n",
    "    if income:\n",
    "        taxes += income * brackets[-1]['marginal_rate']\n",
    "    return taxes\n"
   ]
  },
  {
   "cell_type": "code",
   "execution_count": 37,
   "metadata": {},
   "outputs": [
    {
     "data": {
      "text/plain": [
       "9730.8"
      ]
     },
     "execution_count": 37,
     "metadata": {},
     "output_type": "execute_result"
    }
   ],
   "source": [
    "def calculate_payroll_tax(income: float) -> float:\n",
    "    social_security_bracket = [{'income_level': 142_800, 'marginal_rate': 0.062}]\n",
    "    medicare_rate = 0.0145\n",
    "    social_security_tax = taxes(income, social_security_bracket)\n",
    "    medicare_tax = gross_income * medicare_rate\n",
    "    payroll_tax = social_security_tax + medicare_tax\n",
    "    return payroll_tax\n",
    "\n",
    "# payroll taxes are applied to unadjusted gross income\n",
    "calculate_payroll_tax(gross_income)"
   ]
  },
  {
   "cell_type": "code",
   "execution_count": 34,
   "metadata": {},
   "outputs": [
    {
     "data": {
      "text/plain": [
       "{'federal': 16706.22, 'state': 5466.679999999999}"
      ]
     },
     "execution_count": 34,
     "metadata": {},
     "output_type": "execute_result"
    }
   ],
   "source": [
    "def calculate_income_taxes(\n",
    "    income: float, \n",
    "    filing_state: str, \n",
    "    filing_status='single', \n",
    "    federal_deduction=None, \n",
    "    state_deduction=None,\n",
    ") -> dict:\n",
    "    standard_state_deduction, state_income_brackets = get_tax_info(filing_state, filing_status)\n",
    "    standard_federal_deduction, federal_income_brackets = get_tax_info('federal', filing_status)\n",
    "    \n",
    "    # apply custom deductions if available\n",
    "    federal_deduction = federal_deduction or standard_federal_deduction\n",
    "    state_deduction = state_deduction or standard_federal_deduction\n",
    "    \n",
    "    federal_income_tax = taxes(income - federal_deduction, federal_income_brackets) \n",
    "    state_income_tax = taxes(income - state_deduction, state_income_brackets) \n",
    "\n",
    "    return {\n",
    "        'federal': federal_income_tax, \n",
    "        'state': state_income_tax, \n",
    "    }\n",
    "income_taxes = calculate_income_taxes(agi, filing_state)\n",
    "income_taxes"
   ]
  },
  {
   "cell_type": "code",
   "execution_count": 35,
   "metadata": {},
   "outputs": [
    {
     "name": "stdout",
     "output_type": "stream",
     "text": [
      "\n",
      "cost to exercise 2,433 shares at avg price of $2.49: $6,053.64\n",
      "upfront amt owed if exercised at fmv of $22: $4,418.87\n",
      "total tax paid if held long term and sold at $120: 41,286.08\n",
      "total tax paid if sold short term: $86,742.61\n",
      "potential savings by going long strat $45,456.53\n",
      "\n"
     ]
    }
   ],
   "source": [
    "from typing import Tuple\n",
    "def calculate_amt_taxes(income: float, options: Tuple[float, int]) -> float:\n",
    "    amt_exemption = 72_900\n",
    "    cost_basis = sum(o[0] * o[1] for o in options)\n",
    "    number_of_options = sum(o[1] for o in options)\n",
    "    avg_price_per_share = cost_basis / number_of_options\n",
    "    valuation_at_exercise = number_of_options * fmv\n",
    "\n",
    "    exercise_spread = valuation_at_exercise - cost_basis\n",
    "    amt_base = agi + exercise_spread - amt_exemption\n",
    "    amt_tax_rate = 0.26\n",
    "    tmt = amt_base * amt_tax_rate\n",
    "    amt_tax = max(0, tmt - income_taxes['federal'])\n",
    "    \n",
    "    return amt_tax\n",
    "\n",
    "def calculate_capital_gains_taxes(\n",
    "    income: float, \n",
    "    options: options: Tuple[float, int], \n",
    "    target_price: float, \n",
    "    long_term=False\n",
    "    ) -> float:\n",
    "    cost_basis = sum(o[0] * o[1] for o in options)\n",
    "    number_of_options = sum(o[1] for o in options)\n",
    "    \n",
    "    valuation_at_sale = number_of_options * target_price\n",
    "    gains_from_sale = valuation_at_sale - cost_basis\n",
    "    _, cap_gains_brackets = get_tax_info('federal', 'single', capital_gains=True)\n",
    "    cap_gains_tax = taxes(gains_from_sale, cap_gains_brackets)\n",
    "\n",
    "long_strat_taxes = (amt_tax + cap_gains_tax)\n",
    "short_cap_gains_taxes = calculate_income_taxes(gains_from_sale, filing_state)\n",
    "short_strat_taxes = sum(short_cap_gains_taxes.values())\n",
    "strat_diff = short_strat_taxes - long_strat_taxes\n",
    "\n",
    "print(f\"\"\"\n",
    "cost to exercise {number_of_options:,} shares at avg price of ${avg_price_per_share:.2f}: ${cost_basis:,.2f}\n",
    "upfront amt owed if exercised at fmv of ${fmv}: ${amt_tax:,.2f}\n",
    "total tax paid if held long term and sold at ${target_price}: {long_strat_taxes:,.2f}\n",
    "total tax paid if sold short term: ${short_strat_taxes:,.2f}\n",
    "potential savings by going long strat ${strat_diff:,.2f}\n",
    "\"\"\")"
   ]
  }
 ],
 "metadata": {
  "kernelspec": {
   "display_name": "Python 3",
   "language": "python",
   "name": "python3"
  },
  "language_info": {
   "codemirror_mode": {
    "name": "ipython",
    "version": 3
   },
   "file_extension": ".py",
   "mimetype": "text/x-python",
   "name": "python",
   "nbconvert_exporter": "python",
   "pygments_lexer": "ipython3",
   "version": "3.7.6"
  }
 },
 "nbformat": 4,
 "nbformat_minor": 4
}
